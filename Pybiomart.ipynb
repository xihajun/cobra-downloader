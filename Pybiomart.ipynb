{
  "nbformat": 4,
  "nbformat_minor": 0,
  "metadata": {
    "colab": {
      "name": "Pybiomart.ipynb",
      "provenance": [],
      "authorship_tag": "ABX9TyNEsQjDjp7tAgk9x/at5Ydf",
      "include_colab_link": true
    },
    "kernelspec": {
      "name": "python3",
      "display_name": "Python 3"
    }
  },
  "cells": [
    {
      "cell_type": "markdown",
      "metadata": {
        "id": "view-in-github",
        "colab_type": "text"
      },
      "source": [
        "<a href=\"https://colab.research.google.com/github/xihajun/cobra-downloader/blob/master/Pybiomart.ipynb\" target=\"_parent\"><img src=\"https://colab.research.google.com/assets/colab-badge.svg\" alt=\"Open In Colab\"/></a>"
      ]
    },
    {
      "cell_type": "code",
      "metadata": {
        "id": "_syXqvBBbOWo",
        "colab_type": "code",
        "colab": {
          "base_uri": "https://localhost:8080/",
          "height": 306
        },
        "outputId": "83cfed74-b49b-4943-c815-bbafcedb8610"
      },
      "source": [
        "!pip install pybiomart"
      ],
      "execution_count": 1,
      "outputs": [
        {
          "output_type": "stream",
          "text": [
            "Collecting pybiomart\n",
            "  Downloading https://files.pythonhosted.org/packages/4a/6d/23cf5ae8b0a549a60164c49836c8e8eb393747b5fd00a7b5d9445886e0d8/pybiomart-0.2.0-py3-none-any.whl\n",
            "Collecting requests-cache\n",
            "  Downloading https://files.pythonhosted.org/packages/7f/55/9b1c40eb83c16d8fc79c5f6c2ffade04208b080670fbfc35e0a5effb5a92/requests_cache-0.5.2-py2.py3-none-any.whl\n",
            "Requirement already satisfied: pandas in /usr/local/lib/python3.6/dist-packages (from pybiomart) (1.0.3)\n",
            "Requirement already satisfied: future in /usr/local/lib/python3.6/dist-packages (from pybiomart) (0.16.0)\n",
            "Requirement already satisfied: requests in /usr/local/lib/python3.6/dist-packages (from pybiomart) (2.23.0)\n",
            "Requirement already satisfied: python-dateutil>=2.6.1 in /usr/local/lib/python3.6/dist-packages (from pandas->pybiomart) (2.8.1)\n",
            "Requirement already satisfied: numpy>=1.13.3 in /usr/local/lib/python3.6/dist-packages (from pandas->pybiomart) (1.18.4)\n",
            "Requirement already satisfied: pytz>=2017.2 in /usr/local/lib/python3.6/dist-packages (from pandas->pybiomart) (2018.9)\n",
            "Requirement already satisfied: idna<3,>=2.5 in /usr/local/lib/python3.6/dist-packages (from requests->pybiomart) (2.9)\n",
            "Requirement already satisfied: chardet<4,>=3.0.2 in /usr/local/lib/python3.6/dist-packages (from requests->pybiomart) (3.0.4)\n",
            "Requirement already satisfied: certifi>=2017.4.17 in /usr/local/lib/python3.6/dist-packages (from requests->pybiomart) (2020.4.5.1)\n",
            "Requirement already satisfied: urllib3!=1.25.0,!=1.25.1,<1.26,>=1.21.1 in /usr/local/lib/python3.6/dist-packages (from requests->pybiomart) (1.24.3)\n",
            "Requirement already satisfied: six>=1.5 in /usr/local/lib/python3.6/dist-packages (from python-dateutil>=2.6.1->pandas->pybiomart) (1.12.0)\n",
            "Installing collected packages: requests-cache, pybiomart\n",
            "Successfully installed pybiomart-0.2.0 requests-cache-0.5.2\n"
          ],
          "name": "stdout"
        }
      ]
    },
    {
      "cell_type": "markdown",
      "metadata": {
        "id": "xPQ_gUpv_F2X",
        "colab_type": "text"
      },
      "source": [
        "To get the dataset name, we can check `server.marts['ENSEMBL_MART_ENSEMBL'].datasets`.\n",
        "\n",
        "For dataset.query, we can find the attributes and filters property by checking `dataset.attributes` and `dataset.filters`\n",
        "\n",
        "details:\n",
        "``` \n",
        "'mmusculus_gene_ensembl': <biomart.Dataset name='mmusculus_gene_ensembl', display_name='Mouse genes (GRCm38.p6)'>,\n",
        "'hsapiens_gene_ensembl': <biomart.Dataset name='hsapiens_gene_ensembl', display_name='Human genes (GRCh38.p13)'>,\n",
        "```\n",
        "\n",
        "```\n",
        "ensembl_gene_id | <biomart.Attribute name='ensembl_gene_id', display_name='Gene stable ID', description='Stable ID of the Gene'>\n",
        "external_gene_name | <biomart.Attribute name='external_gene_name', display_name='Gene name', description=''>\n",
        "chromosome_name | <biomart.Attribute name='chromosome_name', display_name='Chromosome/scaffold name', description='Chromosome/scaffold name'>\n",
        "start_position | <biomart.Attribute name='start_position', display_name='Gene start (bp)', description='Start Coordinate of the gene in chromosomal coordinates.'>\n",
        "end_position | <biomart.Attribute name='end_position', display_name='Gene end (bp)', description='End Coordinate of the gene in chromosomal coordinates.'>\n",
        "strand | <biomart.Attribute name='strand', display_name='Strand', description='Orientation of genes on chromosome/scaffold.'>\n",
        "```\n"
      ]
    },
    {
      "cell_type": "code",
      "metadata": {
        "id": "j5dFWl59bP0R",
        "colab_type": "code",
        "colab": {}
      },
      "source": [
        "from pybiomart import Server\n",
        "\n",
        "server = Server(host='http://www.ensembl.org')\n",
        "\n",
        "dataset = (server.marts['ENSEMBL_MART_ENSEMBL']\n",
        "                 .datasets['hsapiens_gene_ensembl'])\n",
        "# mmusculus_gene_ensembl for mouse\n",
        "\n",
        "tmp = dataset.query(attributes=['ensembl_gene_id', \n",
        "                                'external_gene_name',\n",
        "                                'chromosome_name',\n",
        "                                'start_position',\n",
        "                                'end_position',\n",
        "                                'strand',\n",
        "                                'gene_biotype'],\n",
        "                    filters={'biotype':['protein_coding','lncRNA']})"
      ],
      "execution_count": 0,
      "outputs": []
    },
    {
      "cell_type": "code",
      "metadata": {
        "id": "UvP8ODPKl8if",
        "colab_type": "code",
        "colab": {
          "base_uri": "https://localhost:8080/",
          "height": 419
        },
        "outputId": "c19a0927-fbb9-461c-b24c-914439b35554"
      },
      "source": [
        "tmp"
      ],
      "execution_count": 28,
      "outputs": [
        {
          "output_type": "execute_result",
          "data": {
            "text/html": [
              "<div>\n",
              "<style scoped>\n",
              "    .dataframe tbody tr th:only-of-type {\n",
              "        vertical-align: middle;\n",
              "    }\n",
              "\n",
              "    .dataframe tbody tr th {\n",
              "        vertical-align: top;\n",
              "    }\n",
              "\n",
              "    .dataframe thead th {\n",
              "        text-align: right;\n",
              "    }\n",
              "</style>\n",
              "<table border=\"1\" class=\"dataframe\">\n",
              "  <thead>\n",
              "    <tr style=\"text-align: right;\">\n",
              "      <th></th>\n",
              "      <th>Gene stable ID</th>\n",
              "      <th>Gene name</th>\n",
              "      <th>Chromosome/scaffold name</th>\n",
              "      <th>Gene start (bp)</th>\n",
              "      <th>Gene end (bp)</th>\n",
              "      <th>Strand</th>\n",
              "      <th>Gene type</th>\n",
              "    </tr>\n",
              "  </thead>\n",
              "  <tbody>\n",
              "    <tr>\n",
              "      <th>0</th>\n",
              "      <td>ENSG00000281391</td>\n",
              "      <td>RCC2-AS1</td>\n",
              "      <td>CHR_HG2095_PATCH</td>\n",
              "      <td>17409469</td>\n",
              "      <td>17410091</td>\n",
              "      <td>1</td>\n",
              "      <td>lncRNA</td>\n",
              "    </tr>\n",
              "    <tr>\n",
              "      <th>1</th>\n",
              "      <td>ENSG00000280864</td>\n",
              "      <td>AC255560.1</td>\n",
              "      <td>CHR_HG126_PATCH</td>\n",
              "      <td>72505075</td>\n",
              "      <td>72550889</td>\n",
              "      <td>-1</td>\n",
              "      <td>lncRNA</td>\n",
              "    </tr>\n",
              "    <tr>\n",
              "      <th>2</th>\n",
              "      <td>ENSG00000288590</td>\n",
              "      <td>AC099689.3</td>\n",
              "      <td>CHR_HSCHR18_ALT2_CTG2_1</td>\n",
              "      <td>79090905</td>\n",
              "      <td>79091276</td>\n",
              "      <td>1</td>\n",
              "      <td>lncRNA</td>\n",
              "    </tr>\n",
              "    <tr>\n",
              "      <th>3</th>\n",
              "      <td>ENSG00000281226</td>\n",
              "      <td>LINC02783</td>\n",
              "      <td>CHR_HG2095_PATCH</td>\n",
              "      <td>17189783</td>\n",
              "      <td>17197617</td>\n",
              "      <td>1</td>\n",
              "      <td>lncRNA</td>\n",
              "    </tr>\n",
              "    <tr>\n",
              "      <th>4</th>\n",
              "      <td>ENSG00000281557</td>\n",
              "      <td>LRIG2-DT</td>\n",
              "      <td>CHR_HG2104_PATCH</td>\n",
              "      <td>113013524</td>\n",
              "      <td>113073113</td>\n",
              "      <td>-1</td>\n",
              "      <td>lncRNA</td>\n",
              "    </tr>\n",
              "    <tr>\n",
              "      <th>...</th>\n",
              "      <td>...</td>\n",
              "      <td>...</td>\n",
              "      <td>...</td>\n",
              "      <td>...</td>\n",
              "      <td>...</td>\n",
              "      <td>...</td>\n",
              "      <td>...</td>\n",
              "    </tr>\n",
              "    <tr>\n",
              "      <th>40756</th>\n",
              "      <td>ENSG00000285422</td>\n",
              "      <td>OOSP2</td>\n",
              "      <td>CHR_HSCHR11_1_CTG3_1</td>\n",
              "      <td>60040409</td>\n",
              "      <td>60048047</td>\n",
              "      <td>1</td>\n",
              "      <td>protein_coding</td>\n",
              "    </tr>\n",
              "    <tr>\n",
              "      <th>40757</th>\n",
              "      <td>ENSG00000284901</td>\n",
              "      <td>RUVBL1</td>\n",
              "      <td>CHR_HSCHR3_9_CTG2_1</td>\n",
              "      <td>128064778</td>\n",
              "      <td>128160821</td>\n",
              "      <td>-1</td>\n",
              "      <td>protein_coding</td>\n",
              "    </tr>\n",
              "    <tr>\n",
              "      <th>40758</th>\n",
              "      <td>ENSG00000284903</td>\n",
              "      <td>AC226593.1</td>\n",
              "      <td>CHR_HSCHR11_1_CTG3_1</td>\n",
              "      <td>60060882</td>\n",
              "      <td>60075349</td>\n",
              "      <td>1</td>\n",
              "      <td>protein_coding</td>\n",
              "    </tr>\n",
              "    <tr>\n",
              "      <th>40759</th>\n",
              "      <td>ENSG00000288396</td>\n",
              "      <td>AC213033.2</td>\n",
              "      <td>CHR_HSCHR3_5_CTG1</td>\n",
              "      <td>75425608</td>\n",
              "      <td>75426048</td>\n",
              "      <td>-1</td>\n",
              "      <td>protein_coding</td>\n",
              "    </tr>\n",
              "    <tr>\n",
              "      <th>40760</th>\n",
              "      <td>ENSG00000284869</td>\n",
              "      <td>EEFSEC</td>\n",
              "      <td>CHR_HSCHR3_9_CTG2_1</td>\n",
              "      <td>128160388</td>\n",
              "      <td>128415576</td>\n",
              "      <td>1</td>\n",
              "      <td>protein_coding</td>\n",
              "    </tr>\n",
              "  </tbody>\n",
              "</table>\n",
              "<p>40761 rows × 7 columns</p>\n",
              "</div>"
            ],
            "text/plain": [
              "        Gene stable ID   Gene name  ... Strand       Gene type\n",
              "0      ENSG00000281391    RCC2-AS1  ...      1          lncRNA\n",
              "1      ENSG00000280864  AC255560.1  ...     -1          lncRNA\n",
              "2      ENSG00000288590  AC099689.3  ...      1          lncRNA\n",
              "3      ENSG00000281226   LINC02783  ...      1          lncRNA\n",
              "4      ENSG00000281557    LRIG2-DT  ...     -1          lncRNA\n",
              "...                ...         ...  ...    ...             ...\n",
              "40756  ENSG00000285422       OOSP2  ...      1  protein_coding\n",
              "40757  ENSG00000284901      RUVBL1  ...     -1  protein_coding\n",
              "40758  ENSG00000284903  AC226593.1  ...      1  protein_coding\n",
              "40759  ENSG00000288396  AC213033.2  ...     -1  protein_coding\n",
              "40760  ENSG00000284869      EEFSEC  ...      1  protein_coding\n",
              "\n",
              "[40761 rows x 7 columns]"
            ]
          },
          "metadata": {
            "tags": []
          },
          "execution_count": 28
        }
      ]
    },
    {
      "cell_type": "code",
      "metadata": {
        "id": "mYDuo-X5bVMk",
        "colab_type": "code",
        "colab": {
          "base_uri": "https://localhost:8080/",
          "height": 34
        },
        "outputId": "16941332-a0b5-4292-97de-d0440cdc71be"
      },
      "source": [
        "set(tmp['Gene type'])"
      ],
      "execution_count": 29,
      "outputs": [
        {
          "output_type": "execute_result",
          "data": {
            "text/plain": [
              "{'lncRNA', 'protein_coding'}"
            ]
          },
          "metadata": {
            "tags": []
          },
          "execution_count": 29
        }
      ]
    },
    {
      "cell_type": "code",
      "metadata": {
        "id": "MJkUV-Qnbp72",
        "colab_type": "code",
        "colab": {}
      },
      "source": [
        "}"
      ],
      "execution_count": 0,
      "outputs": []
    }
  ]
}